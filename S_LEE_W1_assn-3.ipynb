{
 "cells": [
  {
   "cell_type": "markdown",
   "metadata": {},
   "source": [
    "##Week 1 Assignment"
   ]
  },
  {
   "cell_type": "markdown",
   "metadata": {},
   "source": [
    "Original Sourse:\n",
    "https://gist.github.com/minrk/4358066\n",
    "#This dataset indicates gun homicides per each countries\n",
    "#I may use this data and see if the percentage of gun homicides out of total homicides based on GDP of each countries\n",
    "#To be more specific, I may ask which country is recording the most gun homicides out of total homicides per capita"
   ]
  }
 ],
 "metadata": {
  "kernelspec": {
   "display_name": "Python 3",
   "language": "python",
   "name": "python3"
  },
  "language_info": {
   "codemirror_mode": {
    "name": "ipython",
    "version": 3
   },
   "file_extension": ".py",
   "mimetype": "text/x-python",
   "name": "python",
   "nbconvert_exporter": "python",
   "pygments_lexer": "ipython3",
   "version": "3.7.1"
  }
 },
 "nbformat": 4,
 "nbformat_minor": 2
}
