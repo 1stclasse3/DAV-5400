{
 "cells": [
  {
   "cell_type": "code",
   "execution_count": 232,
   "metadata": {},
   "outputs": [],
   "source": [
    "import re\n",
    "import numpy as np\n"
   ]
  },
  {
   "cell_type": "code",
   "execution_count": 233,
   "metadata": {},
   "outputs": [],
   "source": [
    "text = \"\"\"555-1239Moe Szyslak(636) 555-0113Burns, C. Montgomery555 -6542Rev. Timothy Lovejoy555 8904Ned Flanders636-555-3226Simpson, Homer5553642Dr. Julius Hibbert\"\"\""
   ]
  },
  {
   "cell_type": "markdown",
   "metadata": {},
   "source": [
    "## 1. Extract the names of each individual from the unformatted text string and store them in a vector of some sort. When complete, your vector should contain the following entries:"
   ]
  },
  {
   "cell_type": "code",
   "execution_count": 234,
   "metadata": {},
   "outputs": [
    {
     "data": {
      "text/plain": [
       "' Moe Szyslak   Burns, C. Montgomery   Rev. Timothy Lovejoy   Ned Flanders Simpson, Homer Dr. Julius Hibbert'"
      ]
     },
     "execution_count": 234,
     "metadata": {},
     "output_type": "execute_result"
    }
   ],
   "source": [
    "name = re.sub(r'[0-9-()]+', ' ', text)#use sub function in order to remove numbers from the list\n",
    "name#failed grouping each name"
   ]
  },
  {
   "cell_type": "code",
   "execution_count": 235,
   "metadata": {},
   "outputs": [
    {
     "data": {
      "text/plain": [
       "['Moe Szyslak',\n",
       " 'Burns, C. Montgomery',\n",
       " 'Rev. Timothy Lovejoy',\n",
       " 'Ned Flanders',\n",
       " 'Simpson, Homer',\n",
       " 'Dr. Julius Hibbert']"
      ]
     },
     "execution_count": 235,
     "metadata": {},
     "output_type": "execute_result"
    }
   ],
   "source": [
    "#redo from original data list by using findall function\n",
    "name1 = re.findall('[A-z,\\.]+\\s[A-z,\\.+\\s[A-z,\\.]+',text) \n",
    "# find any upper and lower cases and group each name including ',' and '.'\n",
    "name1 #find any words including upper and lower cases and ',' and '.'"
   ]
  },
  {
   "cell_type": "markdown",
   "metadata": {},
   "source": [
    "## 2. Using your new vector containing only the names of the six individuals, complete the following tasks:"
   ]
  },
  {
   "cell_type": "markdown",
   "metadata": {},
   "source": [
    "(a) Use your regex skills to rearrange the vector so that all elements conform to the standard \"first name lastname\", preserving any titles (e.g., “Rev.”, “Dr.”, etc) or middle/second names."
   ]
  },
  {
   "cell_type": "code",
   "execution_count": 236,
   "metadata": {},
   "outputs": [
    {
     "data": {
      "text/plain": [
       "['Moe Szyslak',\n",
       " 'C. Montgomery Burns',\n",
       " 'Rev. Timothy Lovejoy',\n",
       " 'Ned Flanders',\n",
       " 'Homer Simpson',\n",
       " 'Dr. Julius Hibbert']"
      ]
     },
     "execution_count": 236,
     "metadata": {},
     "output_type": "execute_result"
    }
   ],
   "source": [
    "first_lastname = [] # setup a new list\n",
    "for n in name1:\n",
    "    pattern = re.compile(', ') # using compile function in order to find out last name and first name order \n",
    "    if re.search(pattern,n): \n",
    "        splitname = re.split(pattern,n) # split the name in that case\n",
    "        name = splitname[1] + ' ' + splitname[0] # re-organize the results to first and last name\n",
    "        first_lastname.append(name)\n",
    "    else:\n",
    "        first_lastname.append(n)\n",
    "first_lastname"
   ]
  },
  {
   "cell_type": "markdown",
   "metadata": {},
   "source": [
    "(b) Construct a logical vector indicating whether a character has a title (i.e., Rev. and Dr.)."
   ]
  },
  {
   "cell_type": "code",
   "execution_count": 256,
   "metadata": {},
   "outputs": [
    {
     "data": {
      "text/plain": [
       "array([False, False,  True, False, False,  True])"
      ]
     },
     "execution_count": 256,
     "metadata": {},
     "output_type": "execute_result"
    }
   ],
   "source": [
    "# use regex match function and find any title more than two words. Make it simple using numpy function.\n",
    "title = np.array([re.match('[A-z]{2,}[.]',t) for t in first_lastname]) \n",
    "title != None "
   ]
  },
  {
   "cell_type": "markdown",
   "metadata": {},
   "source": [
    "(c) Construct a logical vector indicating whether a character has a middle/second name."
   ]
  },
  {
   "cell_type": "code",
   "execution_count": 244,
   "metadata": {},
   "outputs": [
    {
     "data": {
      "text/plain": [
       "array([False,  True, False, False, False, False])"
      ]
     },
     "execution_count": 244,
     "metadata": {},
     "output_type": "execute_result"
    }
   ],
   "source": [
    "# use regex match function and find any middlename, which consists of one word.   \n",
    "middlename = np.array([re.match('[A-Z][.]',t) for t in first_lastname]) \n",
    "middlename != None"
   ]
  },
  {
   "cell_type": "markdown",
   "metadata": {},
   "source": [
    "## 3. Consider the HTML string and Explain why this fails and correct the expression."
   ]
  },
  {
   "cell_type": "code",
   "execution_count": 248,
   "metadata": {},
   "outputs": [
    {
     "name": "stdout",
     "output_type": "stream",
     "text": [
      "<re.Match object; span=(0, 33), match='<title>+++BREAKING NEWS+++<title>'>\n"
     ]
    }
   ],
   "source": [
    "# follow the instruction and find out error\n",
    "html = '<title>+++BREAKING NEWS+++<title>'\n",
    "html_incorrect = re.match('<.+>', html)\n",
    "print(html_incorrect)"
   ]
  },
  {
   "cell_type": "code",
   "execution_count": 250,
   "metadata": {},
   "outputs": [
    {
     "name": "stdout",
     "output_type": "stream",
     "text": [
      "<title>\n"
     ]
    }
   ],
   "source": [
    "# Fix the error\n",
    "title = '<.+?>'\n",
    "html_correct = re.match(title, html).group()\n",
    "print(html_correct)"
   ]
  },
  {
   "cell_type": "markdown",
   "metadata": {},
   "source": [
    "Answer: Since '<.+>' means to extract entire string, we got an incorrect result. To fix this error, I believe we need to add '?', which means the qualifier makes it perform the match as few characters as possible will be matched. "
   ]
  },
  {
   "cell_type": "markdown",
   "metadata": {},
   "source": [
    "## 4. Consider the string “(5-3)^2=5^2-2x5x3+3^2” conforms to the binomial theorem. We would like to extract the formula in the string. Explain why this fails and correct the expression."
   ]
  },
  {
   "cell_type": "code",
   "execution_count": 253,
   "metadata": {},
   "outputs": [
    {
     "data": {
      "text/plain": [
       "['-', '^', '^', '-', '^']"
      ]
     },
     "execution_count": 253,
     "metadata": {},
     "output_type": "execute_result"
    }
   ],
   "source": [
    "# follow the instruction and find out error\n",
    "df = '(5-3)^2=5^2-2*5*3+3^2'\n",
    "theorem_incorrect = re.findall('[^0-9=+*()]+', df)\n",
    "theorem_incorrect"
   ]
  },
  {
   "cell_type": "code",
   "execution_count": 258,
   "metadata": {},
   "outputs": [
    {
     "data": {
      "text/plain": [
       "['(5-3)^2=5^2-2*5*3+3^2']"
      ]
     },
     "execution_count": 258,
     "metadata": {},
     "output_type": "execute_result"
    }
   ],
   "source": [
    "# Fix the error\n",
    "theorem_correct = re.findall('[0-9-^=+*()]+', df)\n",
    "theorem_correct"
   ]
  },
  {
   "cell_type": "markdown",
   "metadata": {},
   "source": [
    "Answer: We got incorrect results from '[^0-9=+*()]+' because it is extracted only special characters. Since the pattern character '^' comes at the beginning, the following patterns are disregarded. Therefore, caret pattern needs to be relocated. Adding '-' and '^' between '9' and '=', we got the correct answer. "
   ]
  }
 ],
 "metadata": {
  "kernelspec": {
   "display_name": "Python 3",
   "language": "python",
   "name": "python3"
  },
  "language_info": {
   "codemirror_mode": {
    "name": "ipython",
    "version": 3
   },
   "file_extension": ".py",
   "mimetype": "text/x-python",
   "name": "python",
   "nbconvert_exporter": "python",
   "pygments_lexer": "ipython3",
   "version": "3.7.1"
  }
 },
 "nbformat": 4,
 "nbformat_minor": 2
}
